{
 "cells": [
  {
   "cell_type": "markdown",
   "id": "98612dab-bbaf-45d8-8f32-71b9f3cc7eaf",
   "metadata": {},
   "source": [
    "# 问GPT如何获取youtube的字幕，但试验第二个答案没法用"
   ]
  },
  {
   "cell_type": "code",
   "execution_count": 2,
   "id": "97ac1c73-3a2f-43d0-9283-bd9a01e73252",
   "metadata": {},
   "outputs": [],
   "source": [
    "# 给定一个youtube的链接，如何获得一个youtube视频的字幕？有没有什么python包可以用？"
   ]
  },
  {
   "cell_type": "markdown",
   "id": "668d5b04-8956-44c0-a9f3-0acb33264778",
   "metadata": {},
   "source": [
    "**assistant**\n",
    "\n",
    "要获取YouTube视频的字幕，你可以使用`youtube-dl`或`pytube`库。以下是如何使用它们的简要说明：\n",
    "\n",
    "### 使用 `youtube-dl`\n",
    "\n",
    "首先，你需要安装`youtube-dl`。这是一个命令行工具，但它也可以在Python脚本中作为库使用。你可以通过pip安装它：\n",
    "\n",
    "```bash\n",
    "pip install youtube-dl\n",
    "```\n",
    "\n",
    "然后，你可以使用以下Python代码来获取字幕：\n",
    "\n",
    "```python\n",
    "import youtube_dl\n",
    "\n",
    "def download_captions(youtube_url):\n",
    "    ydl_opts = {\n",
    "        'writesubtitles': True,\n",
    "        'allsubtitles': True,  # 如果你想要所有语言的字幕\n",
    "        'skip_download': True,  # 如果你只想下载字幕而不是视频\n",
    "        'outtmpl': 'captions',  # 输出文件的名字前缀\n",
    "    }\n",
    "\n",
    "    with youtube_dl.YoutubeDL(ydl_opts) as ydl:\n",
    "        ydl.download([youtube_url])\n",
    "\n",
    "# 示例使用\n",
    "download_captions('https://www.youtube.com/watch?v=YOUR_VIDEO_ID')\n",
    "```\n",
    "\n",
    "### 使用 `pytube`\n",
    "\n",
    "`pytube`是一个轻量级、简单易用的库，它允许你下载YouTube内容和元数据。首先，你需要安装`pytube`：\n",
    "\n",
    "```bash\n",
    "pip install pytube\n",
    "```\n",
    "\n",
    "然后，你可以使用以下Python代码来获取字幕：\n",
    "\n",
    "```python\n",
    "from pytube import YouTube\n",
    "\n",
    "def download_captions(youtube_url):\n",
    "    yt = YouTube(youtube_url)\n",
    "    caption = yt.captions.get_by_language_code('en')  # 例如，获取英文字幕\n",
    "    if caption:\n",
    "        caption_text = caption.generate_srt_captions()\n",
    "        print(caption_text)  # 打印字幕\n",
    "        with open('captions.srt', 'w') as f:\n",
    "            f.write(caption_text)  # 写入文件\n",
    "    else:\n",
    "        print(\"No caption found\")\n",
    "\n",
    "# 示例使用\n",
    "download_captions('https://www.youtube.com/watch?v=YOUR_VIDEO_ID')\n",
    "```\n",
    "\n",
    "请注意，YouTube的API可能会更改，这可能会影响这些库的功能。如果你遇到任何问题，你可能需要查看库的文档或搜索相关的GitHub问题。在使用这些库时，请确保遵守YouTube的服务条款。\n",
    "\n",
    "<div style=\"text-align: right; color: lightgray; font-style: italic; font-size: x-small;\">_ref || _refs[\"668d5b04-8956-44c0-a9f3-0acb33264778\"]</div>"
   ]
  },
  {
   "cell_type": "code",
   "execution_count": 5,
   "id": "ea8fc604-2240-48f5-b955-b63f8dbd61c6",
   "metadata": {},
   "outputs": [
    {
     "name": "stdout",
     "output_type": "stream",
     "text": [
      "Collecting pytube\n",
      "  Downloading pytube-15.0.0-py3-none-any.whl (57 kB)\n",
      "\u001b[2K     \u001b[90m━━━━━━━━━━━━━━━━━━━━━━━━━━━━━━━━━━━━━━━\u001b[0m \u001b[32m57.6/57.6 kB\u001b[0m \u001b[31m146.7 kB/s\u001b[0m eta \u001b[36m0:00:00\u001b[0ma \u001b[36m0:00:01\u001b[0m\n",
      "\u001b[?25hInstalling collected packages: pytube\n",
      "Successfully installed pytube-15.0.0\n"
     ]
    }
   ],
   "source": [
    "!pip install pytube"
   ]
  },
  {
   "cell_type": "code",
   "execution_count": 9,
   "id": "9366588b-c95a-4002-8350-b5f3b2c509f7",
   "metadata": {},
   "outputs": [],
   "source": [
    "from pytube import YouTube\n",
    "\n",
    "def download_captions(youtube_url):\n",
    "    yt = YouTube(youtube_url)\n",
    "    caption = yt.captions.get_by_language_code('en')  # 例如，获取英文字幕\n",
    "    if caption:\n",
    "        caption_text = caption.generate_srt_captions()\n",
    "        print(caption_text)  # 打印字幕\n",
    "        with open('captions.srt', 'w') as f:\n",
    "            f.write(caption_text)  # 写入文件\n",
    "    else:\n",
    "        print(\"No caption found\")\n",
    "\n"
   ]
  },
  {
   "cell_type": "code",
   "execution_count": 13,
   "id": "607d2d35-91d3-40f8-9a52-d291d031d861",
   "metadata": {},
   "outputs": [
    {
     "data": {
      "text/plain": [
       "{}"
      ]
     },
     "execution_count": 13,
     "metadata": {},
     "output_type": "execute_result"
    }
   ],
   "source": [
    "# 示例使用\n",
    "yt = YouTube('https://www.youtube.com/watch?v=5xzFzSKvFO4&t=1s')\n",
    "yt.captions"
   ]
  },
  {
   "cell_type": "markdown",
   "id": "9ea14b38-0445-4cd3-881a-4109654a47e2",
   "metadata": {},
   "source": [
    "# 这里暂时采用之前的langchain youtube方案"
   ]
  },
  {
   "cell_type": "code",
   "execution_count": 24,
   "id": "edef1877-b137-4713-ab04-d0d6a014afdb",
   "metadata": {
    "collapsed": true,
    "jupyter": {
     "outputs_hidden": true
    },
    "scrolled": true
   },
   "outputs": [
    {
     "name": "stderr",
     "output_type": "stream",
     "text": [
      "/home/ocean/miniconda3/envs/jl-ext2/lib/python3.12/pty.py:95: DeprecationWarning: This process (pid=22632) is multi-threaded, use of forkpty() may lead to deadlocks in the child.\n",
      "  pid, fd = os.forkpty()\n"
     ]
    },
    {
     "name": "stdout",
     "output_type": "stream",
     "text": [
      "Requirement already satisfied: langchain in /home/ocean/miniconda3/envs/jl-ext2/lib/python3.12/site-packages (0.1.0)\n",
      "Requirement already satisfied: PyYAML>=5.3 in /home/ocean/miniconda3/envs/jl-ext2/lib/python3.12/site-packages (from langchain) (6.0.1)\n",
      "Requirement already satisfied: SQLAlchemy<3,>=1.4 in /home/ocean/miniconda3/envs/jl-ext2/lib/python3.12/site-packages (from langchain) (2.0.25)\n",
      "Requirement already satisfied: aiohttp<4.0.0,>=3.8.3 in /home/ocean/miniconda3/envs/jl-ext2/lib/python3.12/site-packages (from langchain) (3.9.1)\n",
      "Requirement already satisfied: dataclasses-json<0.7,>=0.5.7 in /home/ocean/miniconda3/envs/jl-ext2/lib/python3.12/site-packages (from langchain) (0.6.3)\n",
      "Requirement already satisfied: jsonpatch<2.0,>=1.33 in /home/ocean/miniconda3/envs/jl-ext2/lib/python3.12/site-packages (from langchain) (1.33)\n",
      "Requirement already satisfied: langchain-community<0.1,>=0.0.9 in /home/ocean/miniconda3/envs/jl-ext2/lib/python3.12/site-packages (from langchain) (0.0.11)\n",
      "Requirement already satisfied: langchain-core<0.2,>=0.1.7 in /home/ocean/miniconda3/envs/jl-ext2/lib/python3.12/site-packages (from langchain) (0.1.9)\n",
      "Requirement already satisfied: langsmith<0.1.0,>=0.0.77 in /home/ocean/miniconda3/envs/jl-ext2/lib/python3.12/site-packages (from langchain) (0.0.79)\n",
      "Requirement already satisfied: numpy<2,>=1 in /home/ocean/miniconda3/envs/jl-ext2/lib/python3.12/site-packages (from langchain) (1.26.3)\n",
      "Requirement already satisfied: pydantic<3,>=1 in /home/ocean/miniconda3/envs/jl-ext2/lib/python3.12/site-packages (from langchain) (1.10.13)\n",
      "Requirement already satisfied: requests<3,>=2 in /home/ocean/miniconda3/envs/jl-ext2/lib/python3.12/site-packages (from langchain) (2.31.0)\n",
      "Requirement already satisfied: tenacity<9.0.0,>=8.1.0 in /home/ocean/miniconda3/envs/jl-ext2/lib/python3.12/site-packages (from langchain) (8.2.3)\n",
      "Requirement already satisfied: attrs>=17.3.0 in /home/ocean/miniconda3/envs/jl-ext2/lib/python3.12/site-packages (from aiohttp<4.0.0,>=3.8.3->langchain) (23.2.0)\n",
      "Requirement already satisfied: multidict<7.0,>=4.5 in /home/ocean/miniconda3/envs/jl-ext2/lib/python3.12/site-packages (from aiohttp<4.0.0,>=3.8.3->langchain) (6.0.4)\n",
      "Requirement already satisfied: yarl<2.0,>=1.0 in /home/ocean/miniconda3/envs/jl-ext2/lib/python3.12/site-packages (from aiohttp<4.0.0,>=3.8.3->langchain) (1.9.4)\n",
      "Requirement already satisfied: frozenlist>=1.1.1 in /home/ocean/miniconda3/envs/jl-ext2/lib/python3.12/site-packages (from aiohttp<4.0.0,>=3.8.3->langchain) (1.4.1)\n",
      "Requirement already satisfied: aiosignal>=1.1.2 in /home/ocean/miniconda3/envs/jl-ext2/lib/python3.12/site-packages (from aiohttp<4.0.0,>=3.8.3->langchain) (1.3.1)\n",
      "Requirement already satisfied: marshmallow<4.0.0,>=3.18.0 in /home/ocean/miniconda3/envs/jl-ext2/lib/python3.12/site-packages (from dataclasses-json<0.7,>=0.5.7->langchain) (3.20.2)\n",
      "Requirement already satisfied: typing-inspect<1,>=0.4.0 in /home/ocean/miniconda3/envs/jl-ext2/lib/python3.12/site-packages (from dataclasses-json<0.7,>=0.5.7->langchain) (0.9.0)\n",
      "Requirement already satisfied: jsonpointer>=1.9 in /home/ocean/miniconda3/envs/jl-ext2/lib/python3.12/site-packages (from jsonpatch<2.0,>=1.33->langchain) (2.4)\n",
      "Requirement already satisfied: anyio<5,>=3 in /home/ocean/miniconda3/envs/jl-ext2/lib/python3.12/site-packages (from langchain-core<0.2,>=0.1.7->langchain) (4.2.0)\n",
      "Requirement already satisfied: packaging<24.0,>=23.2 in /home/ocean/miniconda3/envs/jl-ext2/lib/python3.12/site-packages (from langchain-core<0.2,>=0.1.7->langchain) (23.2)\n",
      "Requirement already satisfied: typing-extensions>=4.2.0 in /home/ocean/miniconda3/envs/jl-ext2/lib/python3.12/site-packages (from pydantic<3,>=1->langchain) (4.9.0)\n",
      "Requirement already satisfied: charset-normalizer<4,>=2 in /home/ocean/miniconda3/envs/jl-ext2/lib/python3.12/site-packages (from requests<3,>=2->langchain) (3.3.2)\n",
      "Requirement already satisfied: idna<4,>=2.5 in /home/ocean/miniconda3/envs/jl-ext2/lib/python3.12/site-packages (from requests<3,>=2->langchain) (3.6)\n",
      "Requirement already satisfied: urllib3<3,>=1.21.1 in /home/ocean/miniconda3/envs/jl-ext2/lib/python3.12/site-packages (from requests<3,>=2->langchain) (2.1.0)\n",
      "Requirement already satisfied: certifi>=2017.4.17 in /home/ocean/miniconda3/envs/jl-ext2/lib/python3.12/site-packages (from requests<3,>=2->langchain) (2023.11.17)\n",
      "Requirement already satisfied: greenlet!=0.4.17 in /home/ocean/miniconda3/envs/jl-ext2/lib/python3.12/site-packages (from SQLAlchemy<3,>=1.4->langchain) (3.0.3)\n",
      "Requirement already satisfied: sniffio>=1.1 in /home/ocean/miniconda3/envs/jl-ext2/lib/python3.12/site-packages (from anyio<5,>=3->langchain-core<0.2,>=0.1.7->langchain) (1.3.0)\n",
      "Requirement already satisfied: mypy-extensions>=0.3.0 in /home/ocean/miniconda3/envs/jl-ext2/lib/python3.12/site-packages (from typing-inspect<1,>=0.4.0->dataclasses-json<0.7,>=0.5.7->langchain) (1.0.0)\n",
      "Collecting youtube-transcript-api\n",
      "  Downloading youtube_transcript_api-0.6.2-py3-none-any.whl.metadata (15 kB)\n",
      "Requirement already satisfied: requests in /home/ocean/miniconda3/envs/jl-ext2/lib/python3.12/site-packages (from youtube-transcript-api) (2.31.0)\n",
      "Requirement already satisfied: charset-normalizer<4,>=2 in /home/ocean/miniconda3/envs/jl-ext2/lib/python3.12/site-packages (from requests->youtube-transcript-api) (3.3.2)\n",
      "Requirement already satisfied: idna<4,>=2.5 in /home/ocean/miniconda3/envs/jl-ext2/lib/python3.12/site-packages (from requests->youtube-transcript-api) (3.6)\n",
      "Requirement already satisfied: urllib3<3,>=1.21.1 in /home/ocean/miniconda3/envs/jl-ext2/lib/python3.12/site-packages (from requests->youtube-transcript-api) (2.1.0)\n",
      "Requirement already satisfied: certifi>=2017.4.17 in /home/ocean/miniconda3/envs/jl-ext2/lib/python3.12/site-packages (from requests->youtube-transcript-api) (2023.11.17)\n",
      "Downloading youtube_transcript_api-0.6.2-py3-none-any.whl (24 kB)\n",
      "Installing collected packages: youtube-transcript-api\n",
      "Successfully installed youtube-transcript-api-0.6.2\n"
     ]
    }
   ],
   "source": [
    "!pip install langchain\n",
    "!pip install youtube-transcript-api"
   ]
  },
  {
   "cell_type": "code",
   "execution_count": 28,
   "id": "dce3cd58-9c53-4605-ba0d-432f58a83af0",
   "metadata": {
    "scrolled": true
   },
   "outputs": [
    {
     "name": "stdout",
     "output_type": "stream",
     "text": [
      "Title:   Channel 11: Jeffrey Gundlach on 2023, 2024 and the Federal Deficit Dilemma \n",
      "Date:  2023-11-15 00:00:00 \n",
      "Author:  DoubleLine Capital \n",
      "Length:  23.2 min 22458 chars \n",
      "Views:  45262\n",
      "Descrb:  Unknown\n",
      "\n",
      "\n",
      "-----------------------------Content Begin-----------------------------\n",
      "[Music] hello and welcome back to channel 11 I've got a special guest today Jeffrey gunlock CEO CIO of double line and my mentor on the business thanks for joining us we're almost through the year and early November here and it's been quite a year what was the most surprising thing for you in 2023 uh couple of things I think the first is certainly expected a reversal of 2022 early in the year rates would come down stocks would go up and I thought it would last maybe until about April but it just kept going uh not not the rates the rates uh only rallied in the first I don't know six weeks it felt like but then the S&P kept going and the NASDAQ well the Magnificent s yeah really uh powered the market in a way that I thought was kind of eerily reminiscent of 1999 where you had the NASDAQ go up 80% % in the fourth quarter right before you know actually if you had sold September 30th you've been been pretty unhappy in the fourth quarter but a few months later you could have bought them back down 50% so it was kind of and I I guess uh most macro thinkers and to a certain extent I would say I'm part of this too didn't fully appreciate how much Service uh momentum in terms of consumer spending you know we all knew that uh with all the government money in 2020 2021 that there was a lot of goods buying a lot of patio furniture a lot of home office stuff but uh Services uh were non-existent because people couldn't go anywhere yeah and so it was kind of surprising that Services kicked in to the extent that they did and I I guess I was a little bit underestimated people's foolishness of uh putting their continued spending on very high interest rate credit cards and I think that that's what kept things going the the second thing that surprised me and I continue to be surprised by this in fact this week it's become even more surprising is with major conflict in you know Europe with Ukraine and Russia and with uh the Middle East oil is down yep you know the western Texas Intermediate West Texas intermediate uh spiked in a pavlovian fashion when the turmoil broke out in the Middle East to the mid 90s and today it's right around 77 or so which is kind of surprising when you have uh this type of potential serious uh disruptions that could happen in a context of our strategic petrolum Reserve is at the lowest level in forever and it hasn't hasn't been refilled at all so those are those are things that sort of surprised me um I guess oil could be sniffing out the slowing Global growth that could be coming yeah I think that's right I I I think particularly it's been Europe has been problematic Germany has been a debacle and uh I think that's right I I think that the commodity price complex uh just can't really get above its 200 day moving average and sometimes oil goes up but the agricultural Commodities go down and then oil goes down and some other things but on on a total index basis using the Bloomberg commodity index it just keeps the 200 day moving average just keeps dropping so we've been uh really neutral to negative on Commodities broadly since I think it was either the fall of 2020 or the fall of 2021 those two years somehow blend together in my mind there's s such strange circumstances well we're towards the end of the year this is usually when Byron wne who just passed away and uh in memory of him I thought we'd try to uh do the what should we expect in 24 that people don't expect well I continue to give a Byron wean did that was it 10 or 12 things I think it was 10 uh every year at year end and his his way he framed it is he said these are things that most people give a 30% or lower probability to and I think it's probably more like 50% so he wasn't really making crazy bold predictions he was just saying I think people might be underestimated incrementally surprised and I continue to believe that the presidential election is going to be very different than Trump versus Biden which is what the polls are coming in with right now which is what has believed I've been saying really since about 2018 that I thought the 2024 election just might go to the House of Representatives you might actually have three candidates and that's not at all in Prospect clearly at this point but you've got RFK Jr you've got this no labels group yeah and I just believe very strongly that Joe Biden is not going to run uh it just doesn't even seem possible at this point with with the uh I mean it's got to send a two Wars he's drained the Strategic Reserve everything he's sort of predicted has has not come true and yet he's maintaining in his public comments that everything is just better than it's ever been and uh certainly people don't believe that when you look at the the the approval ratings and what people think about the direction of the country which is really Jimmy Carter resque yeah and I I said when Biden came into office in 2021 I I I said the policies that he's running remind me a lot of my childhood what was going on in the 70s into basically uh the election of Ronald Reagan so I think that's going to be a big surprise uh I also think there's a potential surprise which uh is I'm a little uh iffy on this but I think that the economy is certainly softening and true to form interest rates will probably fall when uh if when the recessions seems to really be here and I think that's going to come in 2024 and interest rates will probably fall in that sort of automatic pavlovian sense but I'm wondering if they won't rise after the initial pavlovian decline because of what I've been talking about and I don't know if it's because of me or because everybody tends to in a strange Way start to wake up to things simultaneously but I think that it's clear that people are starting to really understand and the interest ex expense problem in the United States what we're looking at in the next recession Y and uh and what what the response will be because everyone's starting to realize that we have sort of institutionalized $2 trillion dollish budget deficits even when the economy is supposedly growing well I mean the the third quarter was supposedly pretty good fourth quarter I mean the estimates aren't like the third quarter but they're not negative Y and so people say wow nominal GDP P grew in excess of 6% on annualized basis in the third quarter well that's great except for the budget deficit is over 6% of GDP so if we actually did the right thing which is to have a zero budget deficit and we should start doing that today I gave a talk was it was a on Yahoo finance it was a one of these things was on uh Zoom or teams or whatever and so I I didn't have any connection to the audience I just had this fellow interviewing me and I said this we should have a zero deficit and he told me that the room erupted in Applause I wasn't able to hear it yeah but it was sort of surprising I I guess they were a sympathetic audience but um I think Yahoo finance appeals to a younger crowd and I think I think people over the age of X and I think X is probably 65 or something they truly believe that it's still 1960 they you know you have have these these phrases we're the United States of America there's nothing we can't accomplish yeah well yeah but what we're what we're so-called investing and this these are the new buzzwords investing and work you know politicians love to say they're doing work because it actually sounds like they're doing something other than you know trying to get more votes just just just yeah just just bickering you know but now it's called investment I don't think our backing of Ukraine's AR armaments is an investment and investment is something that you get a return on yeah what we're doing is blowing up bombs and then building more of them and uh appropriating more and more money that we don't have to do this so what we're calling Investments are not Investments they're they're just uh squandering of money I was listening to a podcast uh one that I listen to rather frequently because I'm sympathetic to the host and he said he was he made his um income tax payment which I I've made it on October I think it was 15th or 16th we had to make it then they announced at 3:00 in the afternoon they were delaying it until November I'd already i' already made on Friday it was I paid on Saturday and he said when I was making the payments it was it was you know it's it's always it's always painful to do it he said I was thinking you know I was watching TV I had the TV on and they were talking about more money for these wars and he said why am I even paying these taxes yeah because you know I I pay many I pay a huge amount of taxes and I feel like it's just going to Ukraine yeah and so why bother and we have a $2 trillion doll budget deficit and you know the effic the the real budget is about 7 trillion so we're actually about 28% of the actual uh deficit uh budget is deficit why not just make it all deficit just forget about it and uh back in the aftermath of the global financial crisis there was a funny I think it was meant to be factious but someone was carrying a sign that said why why pay taxes where they can just print money and weirdly that was um increasingly preent yeah well going we're almost going into next year and everyone one's been uh enjoying the 5 and a half% t Bill what is your kind of favorite in I don't want to say trade because there it's you know we like to think of things more holistically like what's your favorite kind of investment setup going into next year a lot of people uh like the phrase T Bill and chill and it's amazing how the six-month T bill has been at 550 um it was lower than that for a while when there was stresses to the regional banking system but it was at 550 back in the early March yeah and it's still at 550 in spite of all the vol utility that we've had uh at the long end or in the belly of the curve but I don't really like the t- bill and chill thing because I think that uh when and if we go into recession that you're going to have the typical pattern that the FED I always say they take the stairs up in the elevator down and you know when you see the history of fed funds it really is a staircase y it goes up just like a staircase sometimes it's steeper but it's uh tends to be with risers like that and uh I I think I'm quite sure that when the recession comes the FED is going to cut rates and they won't cut rates by what the bond market thinks which is about 50 to 75 basis points depending what day you look at the shape of the yield curve I I I think that's the one thing that's not going to happen I think that if it's going to fall it's going to fall a couple hundred basis points and you're going to reinvest your 550 at who knows 350 3 so I like something more like threee Investments two to threee Investments and I don't really want to get very down in credit um for the past couple of years my favorite investment was bank loans because I knew the Fed was going to have to hike rates and rates were punishingly low so at least you could participate with higher income but the benefit of the bank loans they've certainly been uh among the best performers for the past couple of years the benefit of getting that higher coupon starts to turn into kind of a worry yeah will the company be able to pay it and it's one thing for a company to go from 4 to 10 and uh they can survive for a while but what if it stays there with today's phrase higher for longer yeah every day it becomes more painful so I'd be more interested in things that are more like in the Double B category may maybe some parts of single B I like Structured Products a lot because they there's they're abundant to that part of the curve yeah so you can mix together quite shortterm Securities one year and under in cbbs markets and I'm not not talking about you know urban office space I'm talking about the the uh cnbs Market is really a market of sectors it's a sector of sectors I guess I would say but there's parts of it where you can get very high sleep at night factor with about one or twoe life and yields of about 7 a half% and there won't be any defaults uh we're quite quite sure of that then you can mix together some some other credit that might be doubleb bank loans I think are still okay because unlikely to take significant defaults there and then increasingly I'm starting to take a look at Emerging Markets we have been uh correctly as it turns out uh quite negative on emerging markets for the past I don't know 18 months even though the valuation has been good uh and the dollar hasn't really been strengthening the head of our team lose Padilla who's had been very very good these past few years she's been negative on the sector uh not massive not maximum negative but incrementally wants to be underweight and not marginally underweight but I think next year when the recession comes the dollar is going to weaken so I'm looking for the trading point to get into that but when you wrap it all together there you can get mixes of this type of credit where quite you're Diversified although you're all you're all in credit but you're not all in one sector of credit you can get together put together about a three-year portfolio with a yield that's nearly seven and a half and I think that that is just really an easy thing to own yeah it's 200 basis points more than the t bill it's sort of locked in if you want to call it that but not in a in a uncomfortably long-term period and then you can match that with some treasuries because the credit does have downside uh but you can have some treasuries and you can get 5% pretty easily I think the The Five-Year treasur is at 5% you can get uh and you mix that together and you can get something that looks very uh well paired to uh handle volatility of interest rates volatility of credit risk and still get something that I believe will outperform most non-fixed income Investments yeah what do you think uh people should be avoiding or Triple C bank loans Triple C bank loans which I think I don't know I don't even look at them anymore but I think if you just look at the stated yield I think it's like 19 or something well that's that's obviously because there's going to be defaults and one thing that I've been noodling around with and I think this is really important and I think increasingly investors will start understanding how powerful this idea is that everybody thinks that they know how interest rate relationships and economic relationships work because they've been around a long time and they've seen a number of Cycles so I've been around 40 years and so how many recessions have I seen I don't even know eight or nine so they think they know how things work but what a lot of people don't understand is they're they're a summer insect and maybe it's now we're entering the winter and the summer insect doesn't know what winter is yeah and so what I'm saying is uh credit investors high yield investors investment grade corporate investors whenever the economy got a little bit soft or very soft uh there that puts stress on the payback ability of Corporations but every time they got bailed out because interest rates would go down and so everybody thinks they know how all this works but maybe we're all summer insects and we're entering the winter which which of course is a metaphor for perhaps secularly Rising interest rates and I'm in that camp I I do think rates are going to fall in a pavlovian sense when the economy weakens but I think that they're going to go up to higher when they where where they are now at least on the long End the Fed may do quantitative easing to slow that down the way Japan has done it for such a long time but I do think that the rates may rise at that point so uh really I I think that's very important thing to understand that maybe everything that we think we know is informed of a general backdrop which is no longer in play and I'm pretty I I have a high conviction that's the case and we have to think about what that how that affects investment returns for for one thing it means that the PE on stocks is too high yeah I mean if if rates are going to go up and the economy is going to weaken or those things happen uh sequentially or simultaneously what are we doing with a p a trailing p that's in the 20s yeah especially in these high Flyers too right and of course in uh a rollover of a market the ones that lead the charge higher ultimately lead the charge lower like the NASDAQ did in the in 2000 and 2001 and I think that's what's going to happen uh that the the the rank order of of success well the last shallel be first and the first shall be last you're kind of seeing a glimpse of this in the commercial real estate market that you know and exists because of debt and ability to refinance debt because all the debt comes due every 5 to 10 years and and people just cannot refine because rates are higher and the whole business model was predicated on cash flow is higher than debt and it's the opposite now and the thing about commercial real estate market particularly office Market is it just doesn't ever have an uptick I mean there was a building in San Francisco that sort of famously was it was valued at $200 million and this was after the lockdowns they tried to sell it and they tried and somebody bid back bid them down 20% they bid 160 million I saw that and they passed and I I can't remember exactly what they ended up selling it for because they were sort of a for seller it was either 20 million 40 million or 60 was 60 so that's another another hundred million haircut on top of the first 40 so there's just never an uptick there's a lot of uh black space as you look out there my last question I think you already answer it was the kind of the risk people aren't thinking about and uh I think that's that that longer term Rising rate that uh I think I think hire for longer is a really big problem and today we had a really bad 30-year auction it tailed seven basis points and jpw was at some sort of a conference and He piled on with more hawkish rhetoric than he gave last week in his press conference where they kept the FED funds right unchanged and so they're really pound beating the drum about higher for longer but they don't understand that if interest rates actually do sort of what they say and I did this at the grants conference a month ago I say what if interest rates are not at 5 and a half across the curve let's just round it up to six what if the budget deficit is 9% of GDP it's already six to S and we're in supposedly good economy so what happens if it's not so good economy it probably goes to nine and what if the cbo's growth projections are actually right so we don't even assume in the GDP the nominal GDP recession what happens is that 5 years from now with 50% of the treasury debt rolling off in the next 36 months five years from now 50% of all tax receipts would go to interest expense yeah and that's not our grandchildren's problem be in when I was starting this business everybody knew that we were doing foolish things promising things that we couldn't pay for but it was always going to be a problem in 2050 and then 10 years later so it was now it was like 1995 or so and suddenly it was 2040 and then went to 2005 and it was 20 so it's time's going this way and the the problem's coming closer the problem's getting closer so it's actually shrinking on both sides so now it looks like it's about five years and the trustees of Social Security Administration themselves acknowledge at this point that absent a recession they're out of money in about seven years from now so we know there's going to be a recession in the next seven years so it that jives exactly with this 5year or half the money which of course can't have you can't have half the tax receipts go to interest expense because 70% of the budget is mandatory spending yeah and now some of that probably is interest expense but this is the interest expense taking that 70% into you know more like like 100% so there's nothing left for so-called discretionary spending and uh that's a that's just that's a big problem with higher for longer and we talked about bank loans and other floating rate debt uh and of course leases that roll and you know all kinds of uh things that have to be renegotiated so higher for longer is going to be a problem uh and with every passing day it gets more acute every passing day the screws are getting tightened and of course if you're really looking for the labor market to weaken which is what the FED says that they want to do they want to weaken by less than a percentage point on the unemployment I think that's going to be hard to do once you get the momentum going yeah but you know they say they want unemployment to go up well how does that happen well it happens because Financial firms and some tech companies are letting people off but what they really what they really need to do and they don't want to talk about explicitly is they have to take out those companies in the middle that are marginal and are starting to feel the stresses of higher interest rates and they'll ultimately have to go bankrupt and that's going to that's going to happen with higher for longer and that's in fact that's not a consequence of hire for longer it's the goal and so that's what you have to realize and so it's you're you're just not thinking clearly if you think that you can do this interest rate move that they're talking about they've already largely accomplished and have this just you know no Landing scenario which I think foolishly has been priced into various corners of the risk Market well the the Powell's favorite 3month tenure inverted a year ago and uh I think the market maybe just got a little bit impatient waiting for the Slowdown people are too impatient in the investment business one thing you say I mentored you a little bit one thing I try to tell people is everything everything takes longer than you think it just seems it's almost unbearable sometimes yeah when the when the when the interest only mortgages and the pick a pay mortgages showed up starting in 2004 it was amazing that the housing market stayed together for 3 years because it was so ridiculous ully expensive from a conventional financing point of view and frankly that's sort of where we are today yeah well thanks so much for your time appreciate you having you on and good luck out there next year\n",
      "-----------------------------Content End---------------------------------\n"
     ]
    }
   ],
   "source": [
    "from langchain.document_loaders import YoutubeLoader\n",
    "# Youtube Link\n",
    "url = \"https://www.youtube.com/watch?v=5xzFzSKvFO4&t=1s\"\n",
    "loader = YoutubeLoader.from_youtube_url(url, add_video_info=True)\n",
    "transcript = loader.load()\n",
    "\n",
    "info_str = f\"Title:   {transcript[0].metadata['title']} \\nDate:  {transcript[0].metadata['publish_date']} \\n\" \\\n",
    "f\"Author:  {transcript[0].metadata['author']} \\n\" \\\n",
    "f\"Length:  {transcript[0].metadata['length']/60:.1f} min {len(transcript[0].page_content)} chars \\n\" \\\n",
    "f\"Views:  {transcript[0].metadata['view_count']}\"\n",
    "info = f\"Title:   {transcript[0].metadata['title']} \\nDate:  {transcript[0].metadata['publish_date']} \\n\" \\\n",
    "f\"Author:  {transcript[0].metadata['author']} \\n\" \\\n",
    "f\"Length:  {transcript[0].metadata['length']/60:.1f} min\"\n",
    "print(info_str)\n",
    "print(f\"Descrb:  {transcript[0].metadata['description']}\\r\\n\\r\\n\\r\\n-----------------------------Content Begin-----------------------------\")\n",
    "print(transcript[0].page_content)\n",
    "print(\"-----------------------------Content End---------------------------------\")"
   ]
  },
  {
   "cell_type": "markdown",
   "id": "8165e478-a248-450e-a219-ac7b216ba6d5",
   "metadata": {},
   "source": [
    "**user** @refs -1\n",
    "\n",
    "You are a top-tier professional buy-side analyst on macro and fixed income sector. Generate a bullet point summary of the macro view updates notes from a long youtube transcript. Each bullet point should be a single sentence. Duplicated and similar points should be merged. Numbers, narratives, and investment logics from the transcript should be included in the points to support the speaker's views and insights. If the following major topics are mentioned in the transcript, please include them in the summary:\n",
    "- economy status, such as economic growth, demand and supply dynamics, labor market, production, consumer behavior, inventory, etc.\n",
    "- financial environment, such as credits availability, banking sector's health, etc.\n",
    "- inflation, such as purchasing power, CPI, PPI, etc.\n",
    "- fiscal policy, such as government spending, taxation, treasury, etc.\n",
    "- monetary policy, such as interest rate, money supply, central bank actions and outlooks, etc.\n",
    "- geopolitics impact, such as foreign policy, international conflicts and wars, etc.\n",
    "- outlooks on economy, policy, etc.\n",
    "- market insights and trading stategies on rates, credits, equities, commodities, currencies, etc.\n",
    "- other important topics related to macro and fixed income should also be included.\n",
    "\n",
    "Please summarize the above transcript into bullet points in Simplified Chinese:"
   ]
  },
  {
   "cell_type": "markdown",
   "id": "c3196b15-1d56-4a66-a1cd-4c482195adb9",
   "metadata": {},
   "source": [
    "**assistant**\n",
    "\n",
    "- 2023年最令人意外的是股票市场的持续上涨，尤其是标普500和纳斯达克指数，与1999年相似。\n",
    "- 消费者支出在服务业中的增长超出预期，人们在高利率信用卡上的消费支持了市场。\n",
    "- 尽管存在乌克兰和俄罗斯的冲突以及中东的紧张局势，油价下跌，这可能反映了全球经济增长放缓的预期。\n",
    "- 德国经济表现糟糕，欧洲整体面临问题，这可能导致商品价格无法突破200日移动平均线。\n",
    "- 预计2024年的总统选举将与众不同，可能不会是特朗普对拜登的对决，而且可能出现三位候选人的情况。\n",
    "- 预计经济将在2024年软化，利率可能会在经济衰退时初期下降，但随后可能会因为美国利息支出问题而上升。\n",
    "- 美国已经将2万亿美元的预算赤字制度化，即使在经济增长良好时，这是一个持续的问题。\n",
    "- 推荐的投资策略是关注短期投资，避免过度下沉信用等级，偏好双B级信用和结构化产品，以及适度关注新兴市场。\n",
    "- 避免投资CCC级银行贷款，因为这些贷款可能面临违约。\n",
    "- 关注长期利率上升的风险，这可能导致股市的市盈率过高。\n",
    "- 高利率持续时间更长可能导致企业倒闭和破产，这是联邦储备银行实现劳动力市场放缓目标的一部分。\n",
    "- 预计在经济衰退时，联邦储备银行会大幅降息，而不是市场预期的50到75个基点。\n",
    "- 由于财政赤字和债务问题，美国可能面临严重的财政压力，特别是在下一个经济衰退期间。\n",
    "\n",
    "<div style=\"text-align: right; color: lightgray; font-style: italic; font-size: x-small;\">_ref || _refs[\"c3196b15-1d56-4a66-a1cd-4c482195adb9\"]</div>"
   ]
  }
 ],
 "metadata": {
  "is_chatting": false,
  "kernelspec": {
   "display_name": "Python 3 (ipykernel)",
   "language": "python",
   "name": "python3"
  },
  "language_info": {
   "codemirror_mode": {
    "name": "ipython",
    "version": 3
   },
   "file_extension": ".py",
   "mimetype": "text/x-python",
   "name": "python",
   "nbconvert_exporter": "python",
   "pygments_lexer": "ipython3",
   "version": "3.12.1"
  }
 },
 "nbformat": 4,
 "nbformat_minor": 5
}
